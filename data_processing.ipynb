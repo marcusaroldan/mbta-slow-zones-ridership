{
 "cells": [
  {
   "cell_type": "code",
   "execution_count": 1,
   "id": "19e22e81",
   "metadata": {},
   "outputs": [],
   "source": [
    "import pandas as pd"
   ]
  },
  {
   "cell_type": "code",
   "execution_count": 2,
   "id": "95e224d0",
   "metadata": {},
   "outputs": [],
   "source": [
    "filename = 'GSE_2018.csv'"
   ]
  },
  {
   "cell_type": "code",
   "execution_count": 3,
   "id": "4a4879f2",
   "metadata": {},
   "outputs": [],
   "source": [
    "df = pd.read_csv(filename)"
   ]
  },
  {
   "cell_type": "code",
   "execution_count": 4,
   "id": "02d0b48c",
   "metadata": {},
   "outputs": [],
   "source": [
    "# clean time and convert to datetime\n",
    "df['time_period'] = df['time_period'].str[1:-1]\n",
    "df['datetime'] = df['service_date'] + \" \" + df['time_period']\n",
    "df['datetime'] = pd.to_datetime(df['datetime'])"
   ]
  },
  {
   "cell_type": "code",
   "execution_count": 5,
   "id": "e7ed93b3",
   "metadata": {},
   "outputs": [],
   "source": [
    "# get entry total for each station for each date by hour\n",
    "df = df.groupby(['datetime', 'stop_id'])['gated_entries'].sum().reset_index()\n",
    "df['gated_entries'] = df['gated_entries'].astype(int)\n",
    "df['date'] = df['datetime'].dt.date\n",
    "df['hour'] = df['datetime'].dt.hour\n",
    "df = df.groupby(['date', 'hour', 'stop_id'])['gated_entries'].sum().reset_index()"
   ]
  },
  {
   "cell_type": "code",
   "execution_count": 6,
   "id": "fe3804f7",
   "metadata": {},
   "outputs": [],
   "source": [
    "# define am rush hour as 6-10, define pm rush hour as 3-7\n",
    "df_am = df.loc[(df['hour'] >= 6) & (df['hour'] <= 10), :]\n",
    "df_am = df_am.groupby(['date', 'stop_id'])['gated_entries'].sum().reset_index()\n",
    "df_am['am_rush'] = df_am['gated_entries']\n",
    "df_am = df_am.loc[:, ['date', 'stop_id', 'am_rush']]\n",
    "\n",
    "df_pm = df.loc[(df['hour'] >= 15) & (df['hour'] <= 19), :]\n",
    "df_pm = df_pm.groupby(['date', 'stop_id'])['gated_entries'].sum().reset_index()\n",
    "df_pm['pm_rush'] = df_pm['gated_entries']\n",
    "df_pm = df_pm.loc[:, ['date', 'stop_id', 'pm_rush']]"
   ]
  },
  {
   "cell_type": "code",
   "execution_count": 7,
   "id": "1f000ecf",
   "metadata": {},
   "outputs": [],
   "source": [
    "# get entry total for each station by date\n",
    "df_day = df.groupby(['date', 'stop_id'])['gated_entries'].sum().reset_index()\n",
    "df_day['full_day'] = df_day['gated_entries']\n",
    "df_day = df_day.loc[:, ['date', 'stop_id', 'full_day']]"
   ]
  },
  {
   "cell_type": "code",
   "execution_count": 8,
   "id": "8ae8e6a5",
   "metadata": {},
   "outputs": [],
   "source": [
    "# combine everything into one dataframe\n",
    "df_full_day = df_am.merge(df_pm, left_on=['date', 'stop_id'], right_on=['date', 'stop_id'])\n",
    "df_full_day = df_full_day.merge(df_day, left_on=['date', 'stop_id'], right_on=['date', 'stop_id'])"
   ]
  },
  {
   "cell_type": "code",
   "execution_count": 9,
   "id": "eaf2ee84",
   "metadata": {},
   "outputs": [
    {
     "data": {
      "text/html": [
       "<div>\n",
       "<style scoped>\n",
       "    .dataframe tbody tr th:only-of-type {\n",
       "        vertical-align: middle;\n",
       "    }\n",
       "\n",
       "    .dataframe tbody tr th {\n",
       "        vertical-align: top;\n",
       "    }\n",
       "\n",
       "    .dataframe thead th {\n",
       "        text-align: right;\n",
       "    }\n",
       "</style>\n",
       "<table border=\"1\" class=\"dataframe\">\n",
       "  <thead>\n",
       "    <tr style=\"text-align: right;\">\n",
       "      <th></th>\n",
       "      <th>date</th>\n",
       "      <th>stop_id</th>\n",
       "      <th>am_rush</th>\n",
       "      <th>pm_rush</th>\n",
       "      <th>full_day</th>\n",
       "    </tr>\n",
       "  </thead>\n",
       "  <tbody>\n",
       "    <tr>\n",
       "      <th>0</th>\n",
       "      <td>2015-01-01</td>\n",
       "      <td>place-alfcl</td>\n",
       "      <td>477</td>\n",
       "      <td>847</td>\n",
       "      <td>2775</td>\n",
       "    </tr>\n",
       "    <tr>\n",
       "      <th>1</th>\n",
       "      <td>2015-01-01</td>\n",
       "      <td>place-andrw</td>\n",
       "      <td>426</td>\n",
       "      <td>631</td>\n",
       "      <td>1765</td>\n",
       "    </tr>\n",
       "    <tr>\n",
       "      <th>2</th>\n",
       "      <td>2015-01-01</td>\n",
       "      <td>place-aport</td>\n",
       "      <td>725</td>\n",
       "      <td>1121</td>\n",
       "      <td>3598</td>\n",
       "    </tr>\n",
       "    <tr>\n",
       "      <th>3</th>\n",
       "      <td>2015-01-01</td>\n",
       "      <td>place-aqucl</td>\n",
       "      <td>164</td>\n",
       "      <td>1270</td>\n",
       "      <td>2411</td>\n",
       "    </tr>\n",
       "    <tr>\n",
       "      <th>4</th>\n",
       "      <td>2015-01-01</td>\n",
       "      <td>place-armnl</td>\n",
       "      <td>188</td>\n",
       "      <td>1002</td>\n",
       "      <td>2117</td>\n",
       "    </tr>\n",
       "    <tr>\n",
       "      <th>...</th>\n",
       "      <td>...</td>\n",
       "      <td>...</td>\n",
       "      <td>...</td>\n",
       "      <td>...</td>\n",
       "      <td>...</td>\n",
       "    </tr>\n",
       "    <tr>\n",
       "      <th>22311</th>\n",
       "      <td>2015-12-31</td>\n",
       "      <td>place-welln</td>\n",
       "      <td>2281</td>\n",
       "      <td>1849</td>\n",
       "      <td>5648</td>\n",
       "    </tr>\n",
       "    <tr>\n",
       "      <th>22312</th>\n",
       "      <td>2015-12-31</td>\n",
       "      <td>place-wimnl</td>\n",
       "      <td>577</td>\n",
       "      <td>386</td>\n",
       "      <td>1434</td>\n",
       "    </tr>\n",
       "    <tr>\n",
       "      <th>22313</th>\n",
       "      <td>2015-12-31</td>\n",
       "      <td>place-wlsta</td>\n",
       "      <td>1758</td>\n",
       "      <td>755</td>\n",
       "      <td>3442</td>\n",
       "    </tr>\n",
       "    <tr>\n",
       "      <th>22314</th>\n",
       "      <td>2015-12-31</td>\n",
       "      <td>place-wondl</td>\n",
       "      <td>2344</td>\n",
       "      <td>1377</td>\n",
       "      <td>5111</td>\n",
       "    </tr>\n",
       "    <tr>\n",
       "      <th>22315</th>\n",
       "      <td>2015-12-31</td>\n",
       "      <td>place-wtcst</td>\n",
       "      <td>79</td>\n",
       "      <td>309</td>\n",
       "      <td>652</td>\n",
       "    </tr>\n",
       "  </tbody>\n",
       "</table>\n",
       "<p>22316 rows × 5 columns</p>\n",
       "</div>"
      ],
      "text/plain": [
       "             date      stop_id  am_rush  pm_rush  full_day\n",
       "0      2015-01-01  place-alfcl      477      847      2775\n",
       "1      2015-01-01  place-andrw      426      631      1765\n",
       "2      2015-01-01  place-aport      725     1121      3598\n",
       "3      2015-01-01  place-aqucl      164     1270      2411\n",
       "4      2015-01-01  place-armnl      188     1002      2117\n",
       "...           ...          ...      ...      ...       ...\n",
       "22311  2015-12-31  place-welln     2281     1849      5648\n",
       "22312  2015-12-31  place-wimnl      577      386      1434\n",
       "22313  2015-12-31  place-wlsta     1758      755      3442\n",
       "22314  2015-12-31  place-wondl     2344     1377      5111\n",
       "22315  2015-12-31  place-wtcst       79      309       652\n",
       "\n",
       "[22316 rows x 5 columns]"
      ]
     },
     "execution_count": 9,
     "metadata": {},
     "output_type": "execute_result"
    }
   ],
   "source": [
    "df_full_day"
   ]
  },
  {
   "cell_type": "code",
   "execution_count": null,
   "id": "af9c3fb7",
   "metadata": {},
   "outputs": [],
   "source": []
  }
 ],
 "metadata": {
  "kernelspec": {
   "display_name": "Python 3 (ipykernel)",
   "language": "python",
   "name": "python3"
  },
  "language_info": {
   "codemirror_mode": {
    "name": "ipython",
    "version": 3
   },
   "file_extension": ".py",
   "mimetype": "text/x-python",
   "name": "python",
   "nbconvert_exporter": "python",
   "pygments_lexer": "ipython3",
   "version": "3.11.5"
  }
 },
 "nbformat": 4,
 "nbformat_minor": 5
}
